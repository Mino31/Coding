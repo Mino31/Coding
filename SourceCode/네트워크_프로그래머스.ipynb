{
 "cells": [
  {
   "cell_type": "markdown",
   "metadata": {},
   "source": [
    "# 코딩 문제 In 프로그래머스\n",
    "\n",
    "### 문제 : 코딩테스트 연습-깊이/너비 우선 탐색(DFS/BFS)-네트워크\n",
    "- https://programmers.co.kr/learn/courses/30/lessons/43162"
   ]
  },
  {
   "cell_type": "code",
   "execution_count": 1,
   "metadata": {},
   "outputs": [],
   "source": [
    "#dfs 구현\n",
    "def dfs(graph, visited, start):\n",
    "  # graph : computers\n",
    "  # visited : 방문 여부\n",
    "  # start : 시작 노드\n",
    "\n",
    "      stack = [start]\n",
    "\n",
    "      while stack:\n",
    "        node = stack.pop()\n",
    "        if visited[node] == 0: # 처음 방문일 때\n",
    "            visited[node] = 1\n",
    "\n",
    "        for i in range(len(graph)):\n",
    "          # 다음으로 이동할 노드가 처음 방문한 노드인가\n",
    "          if graph[node][i] ==1 and visited[i] == 0:\n",
    "            stack.append(i)\n",
    "\n",
    "    \n",
    "def solution(n, computers):\n",
    "\n",
    "        answer = 0\n",
    "\n",
    "        visited = [0] * n # 값이 0 이고 n의 크기 만큼의 리스트 생성 \n",
    "\n",
    "        cnt = 0 # 노드가 처음 방문한 노드인지 판별을 위한 변수\n",
    "        while 0 in visited: # 모든 노드들을 방문할 때까지\n",
    "            if visited[cnt] == 0:\n",
    "                dfs(computers, visited, cnt)\n",
    "                answer += 1\n",
    "            cnt += 1\n",
    "\n",
    "        return answer\n"
   ]
  },
  {
   "cell_type": "code",
   "execution_count": 2,
   "metadata": {},
   "outputs": [],
   "source": [
    "solution(3,[[1, 1, 0], [1, 1, 0], [0, 0, 1]]) # 2"
   ]
  },
  {
   "cell_type": "code",
   "execution_count": 3,
   "metadata": {},
   "outputs": [],
   "source": [
    "solution(3, [[1, 1, 0], [1, 1, 1], [0, 1, 1]]) # 1"
   ]
  }
 ],
 "metadata": {
  "kernelspec": {
   "display_name": "Python 3",
   "language": "python",
   "name": "python3"
  },
  "language_info": {
   "codemirror_mode": {
    "name": "ipython",
    "version": 3
   },
   "file_extension": ".py",
   "mimetype": "text/x-python",
   "name": "python",
   "nbconvert_exporter": "python",
   "pygments_lexer": "ipython3",
   "version": "3.6.7"
  }
 },
 "nbformat": 4,
 "nbformat_minor": 2
}
