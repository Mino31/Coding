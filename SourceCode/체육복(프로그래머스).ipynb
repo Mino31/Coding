{
 "cells": [
  {
   "cell_type": "markdown",
   "metadata": {},
   "source": [
    "# 코딩 문제 In 프로그래머스\n",
    "\n",
    "### 문제 : 코딩테스트 연습-탐욕법(Greedy)-체육복\n",
    "\n",
    "https://programmers.co.kr/learn/courses/30/lessons/42862?language=python3"
   ]
  },
  {
   "cell_type": "code",
   "execution_count": 1,
   "metadata": {},
   "outputs": [],
   "source": [
    "def solution(n, lost, reserve):\n",
    "    \n",
    "    '''\n",
    "    n : 전체 학생수 (2명이상 30이하)\n",
    "    lost : 체육복을 도난당한 학생 수\n",
    "    reserve : 여벌의 체육복을 가져온 학생 수\n",
    "    answer : 체육 수업을 들을 수 있는 학생의 최댓값\n",
    "    '''\n",
    "    \n",
    "    # 초기 선언 : 모두다 있다고 가정\n",
    "    n_list = [1]*n \n",
    "    answer = n\n",
    "    \n",
    "    # 여분의 체육복이 있는 경우    \n",
    "    for i in reserve:\n",
    "        n_list[i-1] = 2\n",
    "    # 도난 당한 경우\n",
    "    for i in lost:                #도난 당한 학생들의 체육복을 1개씩 줄임\n",
    "        n_list[i-1] -= 1\n",
    "\n",
    "    for i, num in enumerate(n_list):\n",
    "        # 왼쪽부터 체육복 여분이 있는 지 확인 (마지막 번호도 포함)\n",
    "        if i > 0 and num == 0 and n_list[i-1]==2: \n",
    "            n_list[i] = 1                                 \n",
    "            n_list[i-1] =1\n",
    "        # 오른쪽에 체육복이 있는지 확인\n",
    "        elif i < n-1 and num == 0 and n_list[i+1]==2:\n",
    "            n_list[i] = 1\n",
    "            n_list[i+1] =1\n",
    "    \n",
    "    answer -= n_list.count(0) \n",
    "    \n",
    "    \n",
    "    return answer                          \n",
    "    \n",
    " "
   ]
  },
  {
   "cell_type": "code",
   "execution_count": 2,
   "metadata": {},
   "outputs": [
    {
     "data": {
      "text/plain": [
       "4"
      ]
     },
     "execution_count": 2,
     "metadata": {},
     "output_type": "execute_result"
    }
   ],
   "source": [
    "# Testing \n",
    "solution(5, [2, 4], [3]) # 5"
   ]
  },
  {
   "cell_type": "code",
   "execution_count": 3,
   "metadata": {},
   "outputs": [
    {
     "data": {
      "text/plain": [
       "4"
      ]
     },
     "execution_count": 3,
     "metadata": {},
     "output_type": "execute_result"
    }
   ],
   "source": [
    "solution(5, [2, 4], [3]) # 4"
   ]
  },
  {
   "cell_type": "code",
   "execution_count": 4,
   "metadata": {},
   "outputs": [
    {
     "data": {
      "text/plain": [
       "2"
      ]
     },
     "execution_count": 4,
     "metadata": {},
     "output_type": "execute_result"
    }
   ],
   "source": [
    "solution(3, [1], [3]) # 2"
   ]
  },
  {
   "cell_type": "code",
   "execution_count": 5,
   "metadata": {},
   "outputs": [
    {
     "data": {
      "text/plain": [
       "7"
      ]
     },
     "execution_count": 5,
     "metadata": {},
     "output_type": "execute_result"
    }
   ],
   "source": [
    "solution(10,[3,6,8,7],[1,2,3,4]) #7"
   ]
  },
  {
   "cell_type": "code",
   "execution_count": 6,
   "metadata": {},
   "outputs": [
    {
     "data": {
      "text/plain": [
       "3"
      ]
     },
     "execution_count": 6,
     "metadata": {},
     "output_type": "execute_result"
    }
   ],
   "source": [
    "solution(3, [1,2,3], [1,2,3]) #3"
   ]
  },
  {
   "cell_type": "code",
   "execution_count": 7,
   "metadata": {},
   "outputs": [
    {
     "data": {
      "text/plain": [
       "6"
      ]
     },
     "execution_count": 7,
     "metadata": {},
     "output_type": "execute_result"
    }
   ],
   "source": [
    "solution(7,[2,3,4],[1,2,3,6]) #6"
   ]
  }
 ],
 "metadata": {
  "kernelspec": {
   "display_name": "Python 3",
   "language": "python",
   "name": "python3"
  },
  "language_info": {
   "codemirror_mode": {
    "name": "ipython",
    "version": 3
   },
   "file_extension": ".py",
   "mimetype": "text/x-python",
   "name": "python",
   "nbconvert_exporter": "python",
   "pygments_lexer": "ipython3",
   "version": "3.6.7"
  }
 },
 "nbformat": 4,
 "nbformat_minor": 2
}
