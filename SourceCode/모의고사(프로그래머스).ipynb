{
 "cells": [
  {
   "cell_type": "markdown",
   "metadata": {},
   "source": [
    "# 코딩 문제 In 프로그래머스\n",
    "\n",
    "### 코딩테스트 연습-완전탐색-모의고사\n",
    "\n",
    "- https://programmers.co.kr/learn/courses/30/lessons/42840"
   ]
  },
  {
   "cell_type": "markdown",
   "metadata": {},
   "source": [
    "- 1번 수포자가 찍는 방식: 1, 2, 3, 4, 5, 1, 2, 3, 4, 5, ...\n",
    "- 2번 수포자가 찍는 방식: 2, 1, 2, 3, 2, 4, 2, 5, 2, 1, 2, 3, 2, 4, 2, 5, ...\n",
    "- 3번 수포자가 찍는 방식: 3, 3, 1, 1, 2, 2, 4, 4, 5, 5, 3, 3, 1, 1, 2, 2, 4, 4, 5, 5, ...\n",
    "\n",
    "- 시험은 최대 10,000 문제로 구성\n",
    "- 문제의 정답은 1, 2, 3, 4, 5중 하나.\n",
    "- 가장 높은 점수를 받은 사람이 여럿일 경우, return하는 값을 오름차순 정렬."
   ]
  },
  {
   "cell_type": "code",
   "execution_count": 55,
   "metadata": {},
   "outputs": [],
   "source": [
    "def solution(answers):\n",
    "    \n",
    "    answer = []\n",
    "    score_1 = 0\n",
    "    a1 = list(range(1,6))\n",
    "    score_2 = 0\n",
    "    a2 = [2,1,2,3,2,4,2,5] \n",
    "    score_3 = 0\n",
    "    a3 = [3,3,1,1,2,2,4,4,5,5]\n",
    "    \n",
    "    for i, a in enumerate(answers):\n",
    "        if a == a1[i%len(a1)]: #1번 수포자 점수 획득 조건\n",
    "            score_1 += 1 \n",
    "        \n",
    "        #2번 수포자 점수 획득 조건\n",
    "        if a == a2[i%len(a2)]:\n",
    "            score_2 += 1\n",
    "        #3번 수포자 점수 획득 조건\n",
    "        if a == a3[i%len(a3)]:\n",
    "            score_3 += 1\n",
    "    \n",
    "    #print(score_1,score_2, score_3)\n",
    "    # 최고점이 여러명 일떄의 처리\n",
    "    for j, score in enumerate([score_1, score_2, score_3]):\n",
    "        if score == max(score_1, score_2, score_3):\n",
    "            answer.append(j+1)  \n",
    "    return answer"
   ]
  },
  {
   "cell_type": "code",
   "execution_count": 56,
   "metadata": {},
   "outputs": [
    {
     "data": {
      "text/plain": [
       "[1]"
      ]
     },
     "execution_count": 56,
     "metadata": {},
     "output_type": "execute_result"
    }
   ],
   "source": [
    "solution([1,2,3,4,5])#1"
   ]
  },
  {
   "cell_type": "code",
   "execution_count": 53,
   "metadata": {},
   "outputs": [
    {
     "data": {
      "text/plain": [
       "[1, 2, 3]"
      ]
     },
     "execution_count": 53,
     "metadata": {},
     "output_type": "execute_result"
    }
   ],
   "source": [
    "solution([1,3,2,4,2]) #[1,2,3]"
   ]
  },
  {
   "cell_type": "code",
   "execution_count": 54,
   "metadata": {},
   "outputs": [
    {
     "data": {
      "text/plain": [
       "[1]"
      ]
     },
     "execution_count": 54,
     "metadata": {},
     "output_type": "execute_result"
    }
   ],
   "source": [
    "solution([1,4,1,4,1,4])"
   ]
  }
 ],
 "metadata": {
  "kernelspec": {
   "display_name": "Python 3",
   "language": "python",
   "name": "python3"
  },
  "language_info": {
   "codemirror_mode": {
    "name": "ipython",
    "version": 3
   },
   "file_extension": ".py",
   "mimetype": "text/x-python",
   "name": "python",
   "nbconvert_exporter": "python",
   "pygments_lexer": "ipython3",
   "version": "3.6.7"
  }
 },
 "nbformat": 4,
 "nbformat_minor": 2
}
