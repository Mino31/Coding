{
 "cells": [
  {
   "cell_type": "markdown",
   "metadata": {},
   "source": [
    "# 코딩테스트 연습-완전탐색-소수 찾기\n",
    "링크 : https://programmers.co.kr/learn/courses/30/lessons/42839"
   ]
  },
  {
   "cell_type": "code",
   "execution_count": 7,
   "metadata": {},
   "outputs": [],
   "source": [
    "from itertools import permutations # 모든 경우의 수 만드는 라이브러리\n",
    "import math\n",
    "\n",
    "def solution(numbers):\n",
    "    answer =0\n",
    "    All_case = []\n",
    "    \n",
    "    # 모든 경우의 수 만들기\n",
    "    for i in range(len(numbers)): \n",
    "        case = [int(x) for x in list(map(''.join, permutations(list(numbers),i+1)))]\n",
    "    \n",
    "        All_case += case\n",
    "        \n",
    "    # set으로 중복 제거\n",
    "    All_case = set(All_case)\n",
    "    #print(list(set(All_case)))\n",
    "    All_case -= {0,1}\n",
    "    # print(All_case)\n",
    "    \n",
    "    # 에라토스테네스의 체\n",
    "    for i in range(2, int(max(All_case)**0.5)+1):\n",
    "    #print(All_case)\n",
    "        if All_case == set():\n",
    "              return 0\n",
    "\n",
    "        All_case -= set(range(i*2, max(All_case)+1,i))\n",
    "    \n",
    "    return len(All_case)\n"
   ]
  },
  {
   "cell_type": "code",
   "execution_count": 5,
   "metadata": {},
   "outputs": [
    {
     "data": {
      "text/plain": [
       "3"
      ]
     },
     "execution_count": 5,
     "metadata": {},
     "output_type": "execute_result"
    }
   ],
   "source": [
    "solution('17')"
   ]
  },
  {
   "cell_type": "code",
   "execution_count": 6,
   "metadata": {},
   "outputs": [
    {
     "data": {
      "text/plain": [
       "2"
      ]
     },
     "execution_count": 6,
     "metadata": {},
     "output_type": "execute_result"
    }
   ],
   "source": [
    "solution('011')"
   ]
  },
  {
   "cell_type": "code",
   "execution_count": null,
   "metadata": {},
   "outputs": [],
   "source": []
  }
 ],
 "metadata": {
  "kernelspec": {
   "display_name": "Python 3",
   "language": "python",
   "name": "python3"
  },
  "language_info": {
   "codemirror_mode": {
    "name": "ipython",
    "version": 3
   },
   "file_extension": ".py",
   "mimetype": "text/x-python",
   "name": "python",
   "nbconvert_exporter": "python",
   "pygments_lexer": "ipython3",
   "version": "3.7.5"
  }
 },
 "nbformat": 4,
 "nbformat_minor": 2
}
