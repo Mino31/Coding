{
 "cells": [
  {
   "cell_type": "markdown",
   "metadata": {},
   "source": [
    "# 코딩 문제 in 프로그래머스\n",
    "### 문제 : 코딩테스트- 코딩문제 연습 - 2018 윈터코딩 - 스킬트리\n",
    "출처 : https://programmers.co.kr/learn/courses/30/lessons/49993"
   ]
  },
  {
   "cell_type": "code",
   "execution_count": 1,
   "metadata": {},
   "outputs": [],
   "source": [
    "def solution(skill, skill_trees):\n",
    "\n",
    "    # 선행 스킬 : 어떤 스킬을 배우기 전에 먼저 배워야 하는 스킬\n",
    "    # 스킬은 알파벳 대문자로 표기하며, 모든 문자열은 알파벳 대문자로만 이루어짐\n",
    "\n",
    "    # 선행 스킬 순서 skill과 유저들이 만든 스킬트리1를 담은 배열 skill_trees가 매개변수로 주어질 때,\n",
    "    # 가능한 스킬트리 개수를 return 하는 solution 함수를 작성\n",
    "    \n",
    "    answer = len(skill_trees) # 먼저 답이 전부다 맞다고 가정\n",
    "    skills = dict() # skill 에 관련된 dict 선언\n",
    "    num = 1 # skills에 넣을 값 넣기 \n",
    "    for skill_elements in skill:\n",
    "      skills[skill_elements] = num\n",
    "      num += 1\n",
    "\n",
    "    \n",
    "    for st in skill_trees:\n",
    "      check = 1\n",
    "      for i in st:\n",
    "        if i not in skills: # 딕셔너리에 없을 때\n",
    "          pass\n",
    "        elif skills[i] == check: # 순서가 맞을 때\n",
    "          check += 1\n",
    "        \n",
    "        else:\n",
    "          answer -= 1 # 답이 아닌것은 제거\n",
    "          break\n",
    "    \n",
    "\n",
    "    return answer"
   ]
  },
  {
   "cell_type": "code",
   "execution_count": 2,
   "metadata": {},
   "outputs": [
    {
     "data": {
      "text/plain": [
       "2"
      ]
     },
     "execution_count": 2,
     "metadata": {},
     "output_type": "execute_result"
    }
   ],
   "source": [
    "# Testset\n",
    "solution(\"CBD\",[\"BACDE\", \"CBADF\", \"AECB\", \"BDA\"]) # 2\n",
    "\n",
    "# BACDE: B 스킬을 배우기 전에 C 스킬을 먼저 배워야 합니다. 불가능한 스킬트립니다.\n",
    "# CBADF: 가능한 스킬트리입니다.\n",
    "# AECB: 가능한 스킬트리입니다.\n",
    "# BDA: B 스킬을 배우기 전에 C 스킬을 먼저 배워야 합니다. 불가능한 스킬트리입니다."
   ]
  },
  {
   "cell_type": "code",
   "execution_count": null,
   "metadata": {},
   "outputs": [],
   "source": []
  }
 ],
 "metadata": {
  "kernelspec": {
   "display_name": "Python 3",
   "language": "python",
   "name": "python3"
  },
  "language_info": {
   "codemirror_mode": {
    "name": "ipython",
    "version": 3
   },
   "file_extension": ".py",
   "mimetype": "text/x-python",
   "name": "python",
   "nbconvert_exporter": "python",
   "pygments_lexer": "ipython3",
   "version": "3.7.0"
  }
 },
 "nbformat": 4,
 "nbformat_minor": 2
}
