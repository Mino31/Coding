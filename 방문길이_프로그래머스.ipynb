{
 "cells": [
  {
   "cell_type": "markdown",
   "metadata": {},
   "source": [
    "# 코딩 문제 in 프로그래머스\n",
    "### 문제 : 코딩테스트- 코딩문제 연습 - 2018 윈터코딩 - 방문길이\n",
    "- 출처 : https://programmers.co.kr/learn/courses/30/lessons/49994"
   ]
  },
  {
   "cell_type": "code",
   "execution_count": 3,
   "metadata": {},
   "outputs": [],
   "source": [
    "def solution(dirs):\n",
    "    # dirs는 string형, # 'U', 'D', 'R', 'L' 이외에 문자는 없음\n",
    "    # dirs의 길이는 500 이하의 자연수\n",
    "    # 좌표평면의 (0, 0) 위치에서 시작\n",
    "    # 좌표평면의 경계는 왼쪽 위(-5, 5), 왼쪽 아래(-5, -5), 오른쪽 위(5, 5), \n",
    "    #오른쪽 아래(5, -5)로 이루어져 있습니다.\n",
    "\n",
    "    # U: 위쪽으로 한 칸 가기\n",
    "    # D: 아래쪽으로 한 칸 가기\n",
    "    # R: 오른쪽으로 한 칸 가기\n",
    "    # L: 왼쪽으로 한 칸 가기\n",
    "   \n",
    "\n",
    "    answer = 0 # 움직인 횟수\n",
    "    x, y = 0, 0\n",
    "    visited_site = set() # 갔던 정보를 저장\n",
    "\n",
    "    # U,D,R,L에 대한 행동 만들기\n",
    "    for dir in dirs:\n",
    "\n",
    "      if dir == \"U\" and y<5 : # U일 때\n",
    "        new_x , new_y = x , y+1\n",
    "\n",
    "      elif dir == \"D\" and y>-5 : # D일 때\n",
    "        new_x , new_y = x , y-1\n",
    "\n",
    "      elif dir == \"R\" and x<5: # R일 때\n",
    "        new_x , new_y = x+1 , y\n",
    "\n",
    "      elif dir == \"L\" and x>-5: # L일 때\n",
    "        new_x , new_y = x-1 , y\n",
    "      \n",
    "      \n",
    "      if (x, y, new_x, new_y) not in visited_site: # 새로운 길을 찾을 때\n",
    "        # print(x ,y , new_x, new_y)\n",
    "        if (x, y) != (new_x, new_y): # 같은 점일때를 제외\n",
    "          visited_site.add((x, y, new_x, new_y))\n",
    "          visited_site.add((new_x, new_y, x, y)) # 양방향 고려\n",
    "          answer += 1 # 길 개수\n",
    "\n",
    "      x, y = new_x, new_y\n",
    "\n",
    "      \n",
    "      \n",
    "    #print(visited_site)\n",
    "    return answer"
   ]
  },
  {
   "cell_type": "code",
   "execution_count": 4,
   "metadata": {},
   "outputs": [
    {
     "name": "stdout",
     "output_type": "stream",
     "text": [
      "7\n",
      "7\n"
     ]
    }
   ],
   "source": [
    "# Test Set\n",
    "\n",
    "print(solution(\"ULURRDLLU\")) # 7\n",
    "# ULURRDLLU : 캐릭터는 좌표평면의 (0, 0) 위치에서 시작합니다. 좌표평면의 경계는 \n",
    "# 왼쪽 위(-5, 5), 왼쪽 아래(-5, -5), 오른쪽 위(5, 5), 오른쪽 아래(5, -5)로 이루어져 있습니다.\n",
    "\n",
    "print(solution(\"LULLLLLLU\")) # 7\n",
    "# 1번 명령어부터 6번 명령어대로 움직인 후, 7, 8번 명령어는 무시합니다. 다시 9번 명령어대로 움직입니다."
   ]
  },
  {
   "cell_type": "code",
   "execution_count": null,
   "metadata": {},
   "outputs": [],
   "source": []
  }
 ],
 "metadata": {
  "kernelspec": {
   "display_name": "Python 3",
   "language": "python",
   "name": "python3"
  },
  "language_info": {
   "codemirror_mode": {
    "name": "ipython",
    "version": 3
   },
   "file_extension": ".py",
   "mimetype": "text/x-python",
   "name": "python",
   "nbconvert_exporter": "python",
   "pygments_lexer": "ipython3",
   "version": "3.7.0"
  }
 },
 "nbformat": 4,
 "nbformat_minor": 2
}
